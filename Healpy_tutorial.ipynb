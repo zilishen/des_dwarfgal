{
 "cells": [
  {
   "cell_type": "markdown",
   "metadata": {},
   "source": [
    "# Healpy tutorial\n",
    "Created by Zili Shen 03/21/2019"
   ]
  },
  {
   "cell_type": "markdown",
   "metadata": {},
   "source": [
    "This notebook is an example to get you started with healpy. Healpy only does one thing: break areas on a spherical surface into equal-area pixels. It has many helper functions to convert from coordinate systems (e.g. RA and Dec) to pixel position and helps you plot things on sky."
   ]
  },
  {
   "cell_type": "code",
   "execution_count": 8,
   "metadata": {},
   "outputs": [],
   "source": [
    "# std lib\n",
    "from collections import OrderedDict\n",
    "from getpass import getpass\n",
    "import warnings\n",
    "from matplotlib.colors import LogNorm\n",
    "warnings.filterwarnings('ignore') # to suppress some astropy deprecation warnings\n",
    "\n",
    "# 3rd party\n",
    "import numpy as np\n",
    "import pylab as plt\n",
    "from astropy import utils, io, convolution, wcs, stats\n",
    "from astropy.visualization import make_lupton_rgb\n",
    "from astropy.coordinates import name_resolve\n",
    "from pyvo.dal import sia\n",
    "import pandas as pd\n",
    "from scipy.ndimage.filters import gaussian_filter\n",
    "from photutils import find_peaks\n",
    "from scipy.spatial import cKDTree\n",
    "import healpy as hp\n",
    "\n",
    "%matplotlib inline\n",
    "\n",
    "# Data Lab\n",
    "from dl import authClient as ac, queryClient as qc, storeClient as sc\n",
    "from dl.helpers.utils import convert\n",
    "from dl.helpers.crossmatch import xmatch\n",
    "\n",
    "# set up Simple Image Access (SIA) service\n",
    "DEF_ACCESS_URL = \"http://datalab.noao.edu/sia/des_dr1\"\n",
    "svc = sia.SIAService(DEF_ACCESS_URL)"
   ]
  },
  {
   "cell_type": "markdown",
   "metadata": {},
   "source": [
    "## Authentication\n",
    "### Uploading\n",
    "These cells are necessary for me to put this file into vospace, but you should not run them."
   ]
  },
  {
   "cell_type": "code",
   "execution_count": 2,
   "metadata": {},
   "outputs": [
    {
     "name": "stdout",
     "output_type": "stream",
     "text": [
      "Enter user name (+ENTER): zilishen\n",
      "Enter password (+ENTER): ········\n"
     ]
    }
   ],
   "source": [
    "token = ac.login(input('Enter user name (+ENTER): '),getpass('Enter password (+ENTER): '))  "
   ]
  },
  {
   "cell_type": "code",
   "execution_count": 24,
   "metadata": {},
   "outputs": [],
   "source": [
    "!datalab put fr=\"./Healpy_tutorial.ipynb\" to=\"vos://public/des/\""
   ]
  },
  {
   "cell_type": "markdown",
   "metadata": {},
   "source": [
    "### Downloading\n",
    "The following cell is for you to retrieve the latest version of the notebook."
   ]
  },
  {
   "cell_type": "code",
   "execution_count": null,
   "metadata": {},
   "outputs": [],
   "source": [
    "token = ac.login(input('Enter user name (+ENTER): '),getpass('Enter password (+ENTER): '))  \n",
    "#Retrieving the latest notebook to your current directory\n",
    "sc.get (fr = 'zilishen://public/des/Healpy_pixels.ipynb', to = './Healpy_pixels.ipynb')"
   ]
  },
  {
   "cell_type": "markdown",
   "metadata": {},
   "source": [
    "## Reading in the data"
   ]
  },
  {
   "cell_type": "code",
   "execution_count": 2,
   "metadata": {},
   "outputs": [
    {
     "name": "stdout",
     "output_type": "stream",
     "text": [
      "(305817, 9)\n"
     ]
    },
    {
     "data": {
      "text/html": [
       "<div>\n",
       "<style scoped>\n",
       "    .dataframe tbody tr th:only-of-type {\n",
       "        vertical-align: middle;\n",
       "    }\n",
       "\n",
       "    .dataframe tbody tr th {\n",
       "        vertical-align: top;\n",
       "    }\n",
       "\n",
       "    .dataframe thead th {\n",
       "        text-align: right;\n",
       "    }\n",
       "</style>\n",
       "<table border=\"1\" class=\"dataframe\">\n",
       "  <thead>\n",
       "    <tr style=\"text-align: right;\">\n",
       "      <th></th>\n",
       "      <th>ra</th>\n",
       "      <th>dec</th>\n",
       "      <th>mag_auto_g</th>\n",
       "      <th>mag_auto_i</th>\n",
       "      <th>spread_model_r</th>\n",
       "      <th>magerr_auto_g</th>\n",
       "      <th>spreaderr_model_r</th>\n",
       "      <th>magerr_auto_i</th>\n",
       "      <th>tilename</th>\n",
       "    </tr>\n",
       "  </thead>\n",
       "  <tbody>\n",
       "    <tr>\n",
       "      <th>0</th>\n",
       "      <td>326.893500</td>\n",
       "      <td>-39.919220</td>\n",
       "      <td>23.179918</td>\n",
       "      <td>23.469385</td>\n",
       "      <td>-0.010718</td>\n",
       "      <td>0.231884</td>\n",
       "      <td>0.004499</td>\n",
       "      <td>0.644059</td>\n",
       "      <td>DES2148-3957</td>\n",
       "    </tr>\n",
       "    <tr>\n",
       "      <th>1</th>\n",
       "      <td>326.941361</td>\n",
       "      <td>-39.789704</td>\n",
       "      <td>17.020658</td>\n",
       "      <td>17.383627</td>\n",
       "      <td>0.000273</td>\n",
       "      <td>0.001475</td>\n",
       "      <td>0.000022</td>\n",
       "      <td>0.003444</td>\n",
       "      <td>DES2148-3957</td>\n",
       "    </tr>\n",
       "    <tr>\n",
       "      <th>2</th>\n",
       "      <td>327.339690</td>\n",
       "      <td>-40.030502</td>\n",
       "      <td>22.474710</td>\n",
       "      <td>22.546764</td>\n",
       "      <td>-0.005603</td>\n",
       "      <td>0.080204</td>\n",
       "      <td>0.002690</td>\n",
       "      <td>0.174881</td>\n",
       "      <td>DES2148-3957</td>\n",
       "    </tr>\n",
       "    <tr>\n",
       "      <th>3</th>\n",
       "      <td>327.196766</td>\n",
       "      <td>-39.860714</td>\n",
       "      <td>17.485518</td>\n",
       "      <td>17.717770</td>\n",
       "      <td>-0.000003</td>\n",
       "      <td>0.001582</td>\n",
       "      <td>0.000060</td>\n",
       "      <td>0.003320</td>\n",
       "      <td>DES2148-3957</td>\n",
       "    </tr>\n",
       "    <tr>\n",
       "      <th>4</th>\n",
       "      <td>327.519006</td>\n",
       "      <td>-40.082185</td>\n",
       "      <td>21.122114</td>\n",
       "      <td>21.316036</td>\n",
       "      <td>0.000358</td>\n",
       "      <td>0.018762</td>\n",
       "      <td>0.000623</td>\n",
       "      <td>0.046286</td>\n",
       "      <td>DES2148-3957</td>\n",
       "    </tr>\n",
       "  </tbody>\n",
       "</table>\n",
       "</div>"
      ],
      "text/plain": [
       "           ra        dec  mag_auto_g  mag_auto_i  spread_model_r  \\\n",
       "0  326.893500 -39.919220   23.179918   23.469385       -0.010718   \n",
       "1  326.941361 -39.789704   17.020658   17.383627        0.000273   \n",
       "2  327.339690 -40.030502   22.474710   22.546764       -0.005603   \n",
       "3  327.196766 -39.860714   17.485518   17.717770       -0.000003   \n",
       "4  327.519006 -40.082185   21.122114   21.316036        0.000358   \n",
       "\n",
       "   magerr_auto_g  spreaderr_model_r  magerr_auto_i      tilename  \n",
       "0       0.231884           0.004499       0.644059  DES2148-3957  \n",
       "1       0.001475           0.000022       0.003444  DES2148-3957  \n",
       "2       0.080204           0.002690       0.174881  DES2148-3957  \n",
       "3       0.001582           0.000060       0.003320  DES2148-3957  \n",
       "4       0.018762           0.000623       0.046286  DES2148-3957  "
      ]
     },
     "execution_count": 2,
     "metadata": {},
     "output_type": "execute_result"
    }
   ],
   "source": [
    "df = pd.read_csv('des_dr1_g_i_small_box.csv')\n",
    "print(df.shape)\n",
    "df.head()"
   ]
  },
  {
   "cell_type": "markdown",
   "metadata": {},
   "source": [
    "## How many pixels?\n",
    "Healpy is defined in the following way:\n",
    "1. As a minimum, you start with a sphere divided into 12 pixels\n",
    "2. Each iteration can split one pixel into four new ones\n",
    "3. Thus the number of pixels is not any integer, as illustrated in the following cell"
   ]
  },
  {
   "cell_type": "code",
   "execution_count": 3,
   "metadata": {},
   "outputs": [
    {
     "name": "stdout",
     "output_type": "stream",
     "text": [
      "n_exp = 5 n_side = 32 n_pix = 12288\n"
     ]
    }
   ],
   "source": [
    "# Healpix resolution parameters\n",
    "n_exp = 5\n",
    "nside = 2**n_exp #Drlica-Wagner 2015: nside = 4096\n",
    "npix = 12 * 4**n_exp\n",
    "\n",
    "print(\"n_exp =\", n_exp, \"n_side =\", nside, \"n_pix =\", npix)"
   ]
  },
  {
   "cell_type": "code",
   "execution_count": 13,
   "metadata": {},
   "outputs": [
    {
     "data": {
      "image/png": "[encoded data removed]",
      "text/plain": [
       "<Figure size 612x388.8 with 2 Axes>"
      ]
     },
     "metadata": {},
     "output_type": "display_data"
    }
   ],
   "source": [
    "m = np.arange(hp.nside2npix(nside))\n",
    "hp.mollview(m, title=\"Mollview image Nested\",nest=True)\n",
    "# Ring is the default way to order each pixel, labeling them top to bottom"
   ]
  },
  {
   "cell_type": "markdown",
   "metadata": {},
   "source": [
    "# Using Healpy to calculate a pixelized density map\n",
    "Now we can attack our data with healpy pixels and break it down!"
   ]
  },
  {
   "cell_type": "code",
   "execution_count": 5,
   "metadata": {},
   "outputs": [
    {
     "name": "stdout",
     "output_type": "stream",
     "text": [
      "3.357174580844667\n"
     ]
    }
   ],
   "source": [
    "import collections\n",
    "# Calculate the area of one pixel (useful for density map)\n",
    "area = hp.nside2pixarea(nside,degrees=True)\n",
    "print(area)\n",
    "\n",
    "# Read in the ra and dec coordinates for each star\n",
    "lon,lat = df['ra'],df['dec']\n",
    "pix = hp.ang2pix(nside,lon,lat,lonlat=True) # Convert to healpy pixel position\n",
    "\n",
    "# Count how many stars in each pixel\n",
    "counts = collections.Counter(pix)\n",
    "pixels, number = np.array(sorted(counts.items())).T\n",
    "density = number/area"
   ]
  },
  {
   "cell_type": "code",
   "execution_count": 6,
   "metadata": {},
   "outputs": [
    {
     "name": "stdout",
     "output_type": "stream",
     "text": [
      "124.0\n"
     ]
    }
   ],
   "source": [
    "print (np.median(number))"
   ]
  },
  {
   "cell_type": "code",
   "execution_count": 11,
   "metadata": {},
   "outputs": [
    {
     "data": {
      "text/plain": [
       "(array([126., 141., 673., 478., 199.,  43.,  10.,   7.,   2.,   5.,   3.,\n",
       "          1.,   2.,   0.,   1.,   3.,   4.,   0.,   1.,   0.,   0.,   1.,\n",
       "          0.,   0.,   1.,   0.,   0.,   0.,   1.,   1.,   0.,   1.,   0.,\n",
       "          1.,   0.,   0.,   1.,   0.,   1.,   0.,   0.,   0.,   0.,   1.,\n",
       "          1.,   0.,   0.,   1.,   0.,   0.,   0.,   0.,   1.,   0.,   0.,\n",
       "          0.,   0.,   0.,   1.,   0.,   0.,   0.,   0.,   0.,   0.,   0.,\n",
       "          0.,   0.,   0.,   1.,   0.,   0.,   0.,   0.,   0.,   0.,   0.,\n",
       "          0.,   0.,   0.,   0.,   0.,   0.,   0.,   0.,   0.,   0.,   0.,\n",
       "          0.,   0.,   0.,   0.,   0.,   0.,   0.,   0.,   0.,   0.,   0.,\n",
       "          0.,   0.,   0.,   0.,   0.,   0.,   0.,   0.,   0.,   0.,   0.,\n",
       "          0.,   0.,   0.,   0.,   0.,   0.,   0.,   0.,   0.,   0.,   0.,\n",
       "          0.,   0.,   0.,   0.,   0.,   0.,   0.,   0.,   0.,   0.,   0.,\n",
       "          0.,   0.,   0.,   1.,   0.,   0.,   0.,   0.,   0.,   0.,   0.,\n",
       "          0.,   0.,   0.,   0.,   0.,   0.,   0.,   1.,   0.,   0.,   0.,\n",
       "          0.,   0.,   0.,   0.,   0.,   0.,   0.,   0.,   0.,   0.,   0.,\n",
       "          0.,   0.,   0.,   0.,   1.,   0.,   0.,   0.,   0.,   0.,   0.,\n",
       "          0.,   0.,   0.,   0.,   0.,   0.,   0.,   0.,   0.,   0.,   0.,\n",
       "          0.,   0.,   0.,   0.,   0.,   0.,   0.,   0.,   0.,   0.,   0.,\n",
       "          0.,   0.,   0.,   0.,   0.,   0.,   0.,   1.,   0.,   0.,   0.,\n",
       "          0.,   0.,   0.,   0.,   0.,   0.,   0.,   0.,   0.,   0.,   0.,\n",
       "          0.,   0.,   0.,   0.,   0.,   0.,   0.,   0.,   0.,   0.,   0.,\n",
       "          0.,   0.,   0.,   0.,   0.,   0.,   0.,   0.,   0.,   0.,   0.,\n",
       "          1.,   0.,   0.,   0.,   0.,   0.,   0.,   0.,   0.,   0.,   0.,\n",
       "          0.,   0.,   0.,   0.,   0.,   0.,   0.,   0.,   0.,   0.,   0.,\n",
       "          0.,   0.,   0.,   0.,   1.,   0.,   0.,   0.,   0.,   0.,   0.,\n",
       "          0.,   0.,   0.,   0.,   0.,   0.,   0.,   0.,   0.,   0.,   0.,\n",
       "          0.,   0.,   0.,   0.,   0.,   0.,   0.,   0.,   0.,   0.,   0.,\n",
       "          0.,   0.,   1.]),\n",
       " array([2.97869526e-01, 1.29682462e+01, 2.56386230e+01, 3.83089997e+01,\n",
       "        5.09793764e+01, 6.36497531e+01, 7.63201299e+01, 8.89905066e+01,\n",
       "        1.01660883e+02, 1.14331260e+02, 1.27001637e+02, 1.39672013e+02,\n",
       "        1.52342390e+02, 1.65012767e+02, 1.77683144e+02, 1.90353520e+02,\n",
       "        2.03023897e+02, 2.15694274e+02, 2.28364651e+02, 2.41035027e+02,\n",
       "        2.53705404e+02, 2.66375781e+02, 2.79046157e+02, 2.91716534e+02,\n",
       "        3.04386911e+02, 3.17057288e+02, 3.29727664e+02, 3.42398041e+02,\n",
       "        3.55068418e+02, 3.67738795e+02, 3.80409171e+02, 3.93079548e+02,\n",
       "        4.05749925e+02, 4.18420301e+02, 4.31090678e+02, 4.43761055e+02,\n",
       "        4.56431432e+02, 4.69101808e+02, 4.81772185e+02, 4.94442562e+02,\n",
       "        5.07112938e+02, 5.19783315e+02, 5.32453692e+02, 5.45124069e+02,\n",
       "        5.57794445e+02, 5.70464822e+02, 5.83135199e+02, 5.95805576e+02,\n",
       "        6.08475952e+02, 6.21146329e+02, 6.33816706e+02, 6.46487082e+02,\n",
       "        6.59157459e+02, 6.71827836e+02, 6.84498213e+02, 6.97168589e+02,\n",
       "        7.09838966e+02, 7.22509343e+02, 7.35179720e+02, 7.47850096e+02,\n",
       "        7.60520473e+02, 7.73190850e+02, 7.85861226e+02, 7.98531603e+02,\n",
       "        8.11201980e+02, 8.23872357e+02, 8.36542733e+02, 8.49213110e+02,\n",
       "        8.61883487e+02, 8.74553863e+02, 8.87224240e+02, 8.99894617e+02,\n",
       "        9.12564994e+02, 9.25235370e+02, 9.37905747e+02, 9.50576124e+02,\n",
       "        9.63246501e+02, 9.75916877e+02, 9.88587254e+02, 1.00125763e+03,\n",
       "        1.01392801e+03, 1.02659838e+03, 1.03926876e+03, 1.05193914e+03,\n",
       "        1.06460951e+03, 1.07727989e+03, 1.08995027e+03, 1.10262064e+03,\n",
       "        1.11529102e+03, 1.12796140e+03, 1.14063177e+03, 1.15330215e+03,\n",
       "        1.16597253e+03, 1.17864290e+03, 1.19131328e+03, 1.20398366e+03,\n",
       "        1.21665404e+03, 1.22932441e+03, 1.24199479e+03, 1.25466517e+03,\n",
       "        1.26733554e+03, 1.28000592e+03, 1.29267630e+03, 1.30534667e+03,\n",
       "        1.31801705e+03, 1.33068743e+03, 1.34335780e+03, 1.35602818e+03,\n",
       "        1.36869856e+03, 1.38136893e+03, 1.39403931e+03, 1.40670969e+03,\n",
       "        1.41938006e+03, 1.43205044e+03, 1.44472082e+03, 1.45739119e+03,\n",
       "        1.47006157e+03, 1.48273195e+03, 1.49540232e+03, 1.50807270e+03,\n",
       "        1.52074308e+03, 1.53341345e+03, 1.54608383e+03, 1.55875421e+03,\n",
       "        1.57142458e+03, 1.58409496e+03, 1.59676534e+03, 1.60943571e+03,\n",
       "        1.62210609e+03, 1.63477647e+03, 1.64744684e+03, 1.66011722e+03,\n",
       "        1.67278760e+03, 1.68545797e+03, 1.69812835e+03, 1.71079873e+03,\n",
       "        1.72346910e+03, 1.73613948e+03, 1.74880986e+03, 1.76148023e+03,\n",
       "        1.77415061e+03, 1.78682099e+03, 1.79949136e+03, 1.81216174e+03,\n",
       "        1.82483212e+03, 1.83750249e+03, 1.85017287e+03, 1.86284325e+03,\n",
       "        1.87551362e+03, 1.88818400e+03, 1.90085438e+03, 1.91352475e+03,\n",
       "        1.92619513e+03, 1.93886551e+03, 1.95153588e+03, 1.96420626e+03,\n",
       "        1.97687664e+03, 1.98954702e+03, 2.00221739e+03, 2.01488777e+03,\n",
       "        2.02755815e+03, 2.04022852e+03, 2.05289890e+03, 2.06556928e+03,\n",
       "        2.07823965e+03, 2.09091003e+03, 2.10358041e+03, 2.11625078e+03,\n",
       "        2.12892116e+03, 2.14159154e+03, 2.15426191e+03, 2.16693229e+03,\n",
       "        2.17960267e+03, 2.19227304e+03, 2.20494342e+03, 2.21761380e+03,\n",
       "        2.23028417e+03, 2.24295455e+03, 2.25562493e+03, 2.26829530e+03,\n",
       "        2.28096568e+03, 2.29363606e+03, 2.30630643e+03, 2.31897681e+03,\n",
       "        2.33164719e+03, 2.34431756e+03, 2.35698794e+03, 2.36965832e+03,\n",
       "        2.38232869e+03, 2.39499907e+03, 2.40766945e+03, 2.42033982e+03,\n",
       "        2.43301020e+03, 2.44568058e+03, 2.45835095e+03, 2.47102133e+03,\n",
       "        2.48369171e+03, 2.49636208e+03, 2.50903246e+03, 2.52170284e+03,\n",
       "        2.53437321e+03, 2.54704359e+03, 2.55971397e+03, 2.57238434e+03,\n",
       "        2.58505472e+03, 2.59772510e+03, 2.61039547e+03, 2.62306585e+03,\n",
       "        2.63573623e+03, 2.64840660e+03, 2.66107698e+03, 2.67374736e+03,\n",
       "        2.68641773e+03, 2.69908811e+03, 2.71175849e+03, 2.72442887e+03,\n",
       "        2.73709924e+03, 2.74976962e+03, 2.76244000e+03, 2.77511037e+03,\n",
       "        2.78778075e+03, 2.80045113e+03, 2.81312150e+03, 2.82579188e+03,\n",
       "        2.83846226e+03, 2.85113263e+03, 2.86380301e+03, 2.87647339e+03,\n",
       "        2.88914376e+03, 2.90181414e+03, 2.91448452e+03, 2.92715489e+03,\n",
       "        2.93982527e+03, 2.95249565e+03, 2.96516602e+03, 2.97783640e+03,\n",
       "        2.99050678e+03, 3.00317715e+03, 3.01584753e+03, 3.02851791e+03,\n",
       "        3.04118828e+03, 3.05385866e+03, 3.06652904e+03, 3.07919941e+03,\n",
       "        3.09186979e+03, 3.10454017e+03, 3.11721054e+03, 3.12988092e+03,\n",
       "        3.14255130e+03, 3.15522167e+03, 3.16789205e+03, 3.18056243e+03,\n",
       "        3.19323280e+03, 3.20590318e+03, 3.21857356e+03, 3.23124393e+03,\n",
       "        3.24391431e+03, 3.25658469e+03, 3.26925506e+03, 3.28192544e+03,\n",
       "        3.29459582e+03, 3.30726619e+03, 3.31993657e+03, 3.33260695e+03,\n",
       "        3.34527732e+03, 3.35794770e+03, 3.37061808e+03, 3.38328845e+03,\n",
       "        3.39595883e+03, 3.40862921e+03, 3.42129958e+03, 3.43396996e+03,\n",
       "        3.44664034e+03, 3.45931072e+03, 3.47198109e+03, 3.48465147e+03,\n",
       "        3.49732185e+03, 3.50999222e+03, 3.52266260e+03, 3.53533298e+03,\n",
       "        3.54800335e+03, 3.56067373e+03, 3.57334411e+03, 3.58601448e+03,\n",
       "        3.59868486e+03, 3.61135524e+03, 3.62402561e+03, 3.63669599e+03,\n",
       "        3.64936637e+03, 3.66203674e+03, 3.67470712e+03, 3.68737750e+03,\n",
       "        3.70004787e+03, 3.71271825e+03, 3.72538863e+03, 3.73805900e+03,\n",
       "        3.75072938e+03, 3.76339976e+03, 3.77607013e+03, 3.78874051e+03,\n",
       "        3.80141089e+03]),\n",
       " <a list of 300 Patch objects>)"
      ]
     },
     "execution_count": 11,
     "metadata": {},
     "output_type": "execute_result"
    },
    {
     "data": {
      "image/png": "[encoded data removed]",
      "text/plain": [
       "<Figure size 432x288 with 1 Axes>"
      ]
     },
     "metadata": {},
     "output_type": "display_data"
    }
   ],
   "source": [
    "data = dict(PIXEL=pixels,DENSITY=density)\n",
    "plt.hist(density,bins=300) #distribution of pixel density"
   ]
  },
  {
   "cell_type": "markdown",
   "metadata": {},
   "source": [
    "## Final plot\n",
    "As we said before, the number of pixels is not arbitrary. The healpy plotting tool (mollview) expects a pixel number that makes sense. But the way we calculated density, we only included the pixels that have some stars in it.\n",
    "Thus I used our pixel index and density to fill in an array with the correct npix, and plot that."
   ]
  },
  {
   "cell_type": "code",
   "execution_count": 8,
   "metadata": {},
   "outputs": [
    {
     "data": {
      "image/png": "[encoded data removed]",
      "text/plain": [
       "<Figure size 612x388.8 with 2 Axes>"
      ]
     },
     "metadata": {},
     "output_type": "display_data"
    }
   ],
   "source": [
    "plotarray = np.zeros(npix)\n",
    "for i in np.arange(len(pixels)):\n",
    "        plotarray[pixels[i]] = np.log10(density[i])\n",
    "        #plotarray[pixels[i]] = density[i]\n",
    "hp.mollview(plotarray, title='Pixelized stellar density - log scale')"
   ]
  },
  {
   "cell_type": "markdown",
   "metadata": {},
   "source": [
    "## Compare this to the DES footprint\n",
    "It matches! \n",
    "![Just go Google DES footprint if link is broken](https://www.darkenergysurvey.org/wp-content/uploads/2015/04/DESObservingStrategy_Lahav2016-768x460.png \"DES footprint\")"
   ]
  },
  {
   "cell_type": "markdown",
   "metadata": {},
   "source": [
    "# Appendix\n",
    "I am including a couple other pieces of code that I found here and there (from the ugali package).\n",
    "It may be helpful as a future reference, but will not run right now."
   ]
  },
  {
   "cell_type": "code",
   "execution_count": null,
   "metadata": {},
   "outputs": [],
   "source": [
    "def stellarDensity(infile, nside=256, lon_field='RA', lat_field='DEC'): \n",
    "    area = hp.nside2pixarea(nside,degrees=True)\n",
    "    data = fitsio.read(infile,columns=[lon_field,lat_field])\n",
    "\n",
    "    lon,lat = data[lon_field],data[lat_field]\n",
    "    pix = ang2pix(nside,lon,lat)\n",
    "    counts = collections.Counter(pix)\n",
    "    pixels, number = np.array(sorted(counts.items())).T\n",
    "    density = number/area\n",
    "\n",
    "    return pixels, density"
   ]
  },
  {
   "cell_type": "code",
   "execution_count": null,
   "metadata": {},
   "outputs": [],
   "source": [
    "def write_partial_map(filename, data, nside, coord=None, nest=False,\n",
    "                      header=None,dtype=None,**kwargs):\n",
    "    \"\"\"\n",
    "    Partial HEALPix maps are used to efficiently store maps of the sky by only\n",
    "    writing out the pixels that contain data.\n",
    "\n",
    "    Three-dimensional data can be saved by supplying a distance modulus array\n",
    "    which is stored in a separate extension.\n",
    "\n",
    "    Parameters:\n",
    "    -----------\n",
    "    filename : output file name\n",
    "    data     : dictionary or recarray of data to write (must contain 'PIXEL')\n",
    "    nside    : healpix nside of data\n",
    "    coord    : 'G'alactic, 'C'elestial, 'E'cliptic\n",
    "    ordering : 'RING' or 'NEST'\n",
    "    kwargs   : Passed to fitsio.write\n",
    "\n",
    "    Returns:\n",
    "    --------\n",
    "    None\n",
    "    \"\"\"\n",
    "    # ADW: Do we want to make everything uppercase?\n",
    "\n",
    "    if isinstance(data,dict):\n",
    "        names = list(data.keys())\n",
    "    else:\n",
    "        names = data.dtype.names\n",
    "\n",
    "    if 'PIXEL' not in names:\n",
    "        msg = \"'PIXEL' column not found.\"\n",
    "        raise ValueError(msg)\n",
    "\n",
    "    hdr = header_odict(nside=nside,coord=coord,nest=nest)\n",
    "    fitshdr = fitsio.FITSHDR(list(hdr.values()))\n",
    "    if header is not None:\n",
    "        for k,v in header.items():\n",
    "            fitshdr.add_record({'name':k,'value':v})\n",
    "\n",
    "    logger.info(\"Writing %s\"%filename)\n",
    "    fitsio.write(filename,data,extname='PIX_DATA',header=fitshdr,clobber=True)\n",
    "\n",
    "def read_partial_map(filenames, column, fullsky=True, **kwargs):\n",
    "    \"\"\"\n",
    "    Read a partial HEALPix file(s) and return pixels and values/map. Can\n",
    "    handle 3D healpix maps (pix, value, zdim). Returned array has\n",
    "    shape (dimz,npix).\n",
    "\n",
    "    Parameters:\n",
    "        -----------\n",
    "    filenames     : list of input filenames\n",
    "    column        : column of interest\n",
    "    fullsky       : partial or fullsky map\n",
    "    kwargs        : passed to fitsio.read\n",
    "\n",
    "    Returns:\n",
    "    --------\n",
    "    (nside,pix,map) : pixel array and healpix map (partial or fullsky)\n",
    "    \"\"\"\n",
    "    # Make sure that PIXEL is in columns\n",
    "    #kwargs['columns'] = ['PIXEL',column]\n",
    "    kwargs['columns'] = ['PIXEL'] + np.atleast_1d(column).tolist()\n",
    "\n",
    "    filenames = np.atleast_1d(filenames)\n",
    "    header = fitsio.read_header(filenames[0],ext=kwargs.get('ext',1))\n",
    "    data = ugali.utils.fileio.load_files(filenames,**kwargs)\n",
    "\n",
    "    pix = data['PIXEL']\n",
    "    value = data[column]\n",
    "    nside = header['NSIDE']\n",
    "    npix = hp.nside2npix(nside)\n",
    "\n",
    "    ndupes = len(pix) - len(np.unique(pix))\n",
    "    if ndupes > 0:\n",
    "        msg = '%i duplicate pixels during load.'%(ndupes)\n",
    "        raise Exception(msg)\n",
    "\n",
    "    if fullsky and not np.isscalar(column):\n",
    "        raise Exception(\"Cannot make fullsky map from list of columns.\")\n",
    "\n",
    "    if fullsky:\n",
    "        shape = list(value.shape)\n",
    "        shape[0] = npix\n",
    "        hpxmap = hp.UNSEEN * np.ones(shape,dtype=value.dtype)\n",
    "        hpxmap[pix] = value\n",
    "        return (nside,pix,hpxmap.T)\n",
    "    else:\n",
    "        return (nside,pix,value.T)\n"
   ]
  },
  {
   "cell_type": "code",
   "execution_count": null,
   "metadata": {},
   "outputs": [],
   "source": []
  }
 ],
 "metadata": {
  "kernelspec": {
   "display_name": "Python 3",
   "language": "python",
   "name": "python3"
  },
  "language_info": {
   "codemirror_mode": {
    "name": "ipython",
    "version": 3
   },
   "file_extension": ".py",
   "mimetype": "text/x-python",
   "name": "python",
   "nbconvert_exporter": "python",
   "pygments_lexer": "ipython3",
   "version": "3.6.5"
  }
 },
 "nbformat": 4,
 "nbformat_minor": 2
}
