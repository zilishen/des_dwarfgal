{
 "cells": [
  {
   "cell_type": "markdown",
   "metadata": {},
   "source": [
    "# How we queried the database\n",
    "\n",
    "This is an example of how we queried the DES database. It's useful to understand how the query works, but you can download the results directly because I saved the .csv files.\n",
    "\n",
    "The most useful one is des_dr1_g_i_small_box_hpix_4.csv because I appended hpix IDs with nside = 4 to each star."
   ]
  },
  {
   "cell_type": "code",
   "execution_count": 1,
   "metadata": {},
   "outputs": [],
   "source": [
    "# std lib\n",
    "from collections import OrderedDict\n",
    "from getpass import getpass\n",
    "import warnings\n",
    "from matplotlib.colors import LogNorm\n",
    "warnings.filterwarnings('ignore') # to suppress some astropy deprecation warnings\n",
    "\n",
    "# 3rd party\n",
    "import numpy as np\n",
    "import pylab as plt\n",
    "from astropy import utils, io, convolution, wcs, stats\n",
    "from astropy.visualization import make_lupton_rgb\n",
    "from astropy.coordinates import name_resolve\n",
    "from pyvo.dal import sia\n",
    "import pandas as pd\n",
    "from scipy.ndimage.filters import gaussian_filter\n",
    "from photutils import find_peaks\n",
    "from scipy.spatial import cKDTree\n",
    "import healpy\n",
    "from sklearn.cluster import DBSCAN\n",
    "\n",
    "%matplotlib inline\n",
    "\n",
    "# Data Lab\n",
    "from dl import authClient as ac, queryClient as qc, storeClient as sc\n",
    "from dl.helpers.utils import convert\n",
    "from dl.helpers.crossmatch import xmatch\n",
    "\n",
    "# set up Simple Image Access (SIA) service\n",
    "DEF_ACCESS_URL = \"http://datalab.noao.edu/sia/des_dr1\"\n",
    "svc = sia.SIAService(DEF_ACCESS_URL)"
   ]
  },
  {
   "cell_type": "code",
   "execution_count": 2,
   "metadata": {},
   "outputs": [
    {
     "name": "stdout",
     "output_type": "stream",
     "text": [
      "Enter user name (+ENTER): zilishen\n",
      "Enter password (+ENTER): ········\n"
     ]
    }
   ],
   "source": [
    "# To save to virtual space, need to log in your account (not anonymous)\n",
    "token = ac.login(input('Enter user name (+ENTER): '),getpass('Enter password (+ENTER): '))  "
   ]
  },
  {
   "cell_type": "code",
   "execution_count": 4,
   "metadata": {},
   "outputs": [
    {
     "name": "stdout",
     "output_type": "stream",
     "text": [
      "(1 / 1) ./Querying_database_g_i_box.ipynb -> vos://public/des/Querying_database_g_i_box.ipynb\n"
     ]
    },
    {
     "data": {
      "text/plain": [
       "'OK'"
      ]
     },
     "execution_count": 4,
     "metadata": {},
     "output_type": "execute_result"
    }
   ],
   "source": [
    "sc.put (fr='./Querying_database_g_i_box.ipynb', to = 'vos://public/des/')"
   ]
  },
  {
   "cell_type": "code",
   "execution_count": 5,
   "metadata": {},
   "outputs": [
    {
     "name": "stdout",
     "output_type": "stream",
     "text": [
      "(1 / 1) ./des_dr1_g_i_small_box_hpix_4.csv -> vos://public/des/des_dr1_g_i_small_box_hpix_4.csv\n"
     ]
    },
    {
     "data": {
      "text/plain": [
       "'OK'"
      ]
     },
     "execution_count": 5,
     "metadata": {},
     "output_type": "execute_result"
    }
   ],
   "source": [
    "sc.put (fr='./des_dr1_g_i_small_box_hpix_4.csv', to = 'vos://public/des/')"
   ]
  },
  {
   "cell_type": "code",
   "execution_count": null,
   "metadata": {},
   "outputs": [],
   "source": []
  },
  {
   "cell_type": "markdown",
   "metadata": {},
   "source": [
    "# Query the database"
   ]
  },
  {
   "cell_type": "code",
   "execution_count": 6,
   "metadata": {},
   "outputs": [
    {
     "name": "stdout",
     "output_type": "stream",
     "text": [
      "\n",
      "Schema: des_dr1\n",
      "\n",
      "      Table Name   Description\n",
      "      ----------   -----------\n",
      "     des_allwise   ALLWISE 1-arcsec xmatch v. DES\n",
      "       des_gaia2   Gaia DR2 1.5-arcsec xmatch v. DES\n",
      "       des_galex   GALEX (AIS) 1-arcsec xmatch v. DES\n",
      "        des_hsc2   HSC2 1-arcsec xmatch v. DES\n",
      "      des_nscdr1   NSC DR1 1.5-arcsec xmatch v. DES\n",
      "      des_simbad   SIMBAD 1-arcsec xmatch v. DES\n",
      "            flux   Object flux table\n",
      "        galaxies   Pure galaxy sample\n",
      "       img2coadd   Images contributing to coadded tiles\n",
      "             mag   Object magnitude table\n",
      "            main   Main object table\n",
      "       neighbors   Neighbors w/in 30-arcsec of each object\n",
      "           stars   Pure star sample\n",
      "       tile_info   Survey tile information table\n",
      "  x_gaia_dr2_2p5   Gaia DR1 2.5 arcsec xmatch v. DES\n",
      "\n"
     ]
    }
   ],
   "source": [
    "# The DES DR1 Schema\n",
    "print(qc.schema('des_dr1',format='',profile='default'))\n",
    "#print(main.columns)"
   ]
  },
  {
   "cell_type": "code",
   "execution_count": 8,
   "metadata": {},
   "outputs": [],
   "source": [
    "# columns to query for\n",
    "columns = '''ra,dec,mag_auto_g,mag_auto_i,magerr_auto_g,magerr_auto_i,tilename,hpix_1024,hpix_32,hpix_4096,hpix_64'''"
   ]
  },
  {
   "cell_type": "code",
   "execution_count": 9,
   "metadata": {},
   "outputs": [],
   "source": [
    "# a function to retrieve data\n",
    "def getData(columns='*'):\n",
    "\n",
    "    query_template =\\\n",
    "    \"\"\"SELECT {0} FROM des_dr1.main\n",
    "       WHERE spread_model_r + 3.0*spreaderr_model_r < 0.003 AND spread_model_r > -0.1 AND \n",
    "       flags_r < 4.0 AND flags_g < 4.0 AND\n",
    "       imaflags_iso_r = 0 AND imaflags_iso_g = 0 AND\n",
    "       (mag_auto_g - mag_auto_i) < 0.0 AND (mag_auto_g - mag_auto_i) > -0.9 AND\n",
    "       mag_auto_g < 25.5 AND mag_auto_g > 17\n",
    "       \"\"\"\n",
    "    # r-band has the better morphology classification than other bands\n",
    "    # i-band is better than r-band, but shallower\n",
    "    # In querying, using \"between\" is inefficient\n",
    "\n",
    "    query = query_template.format(columns)\n",
    "\n",
    "    \n",
    "    return query\n",
    "\n",
    "# big box from isochrone: 17 < g < 26, -0.9 < g-i < 0.2\n",
    "# smaller box: 17 < g < 25.5, -0.9 < g-i < 0.0"
   ]
  },
  {
   "cell_type": "code",
   "execution_count": 10,
   "metadata": {},
   "outputs": [],
   "source": [
    "query = getData(columns)\n",
    "### Simple query\n",
    "#df = qc.query(query, fmt='pandas')"
   ]
  },
  {
   "cell_type": "code",
   "execution_count": 11,
   "metadata": {},
   "outputs": [
    {
     "name": "stdout",
     "output_type": "stream",
     "text": [
      "h2e9z05rsehh5b91\n"
     ]
    }
   ],
   "source": [
    "### Using async because this query may take a while\n",
    "jobid = qc.query(query,async=True)\n",
    "print (jobid)"
   ]
  },
  {
   "cell_type": "code",
   "execution_count": 17,
   "metadata": {},
   "outputs": [
    {
     "name": "stdout",
     "output_type": "stream",
     "text": [
      "COMPLETED\n"
     ]
    }
   ],
   "source": [
    "status = qc.status(jobid)\n",
    "print (status)"
   ]
  },
  {
   "cell_type": "code",
   "execution_count": 18,
   "metadata": {},
   "outputs": [
    {
     "data": {
      "text/html": [
       "<div>\n",
       "<style scoped>\n",
       "    .dataframe tbody tr th:only-of-type {\n",
       "        vertical-align: middle;\n",
       "    }\n",
       "\n",
       "    .dataframe tbody tr th {\n",
       "        vertical-align: top;\n",
       "    }\n",
       "\n",
       "    .dataframe thead th {\n",
       "        text-align: right;\n",
       "    }\n",
       "</style>\n",
       "<table border=\"1\" class=\"dataframe\">\n",
       "  <thead>\n",
       "    <tr style=\"text-align: right;\">\n",
       "      <th></th>\n",
       "      <th>ra</th>\n",
       "      <th>dec</th>\n",
       "      <th>mag_auto_g</th>\n",
       "      <th>mag_auto_i</th>\n",
       "      <th>magerr_auto_g</th>\n",
       "      <th>magerr_auto_i</th>\n",
       "      <th>tilename</th>\n",
       "      <th>hpix_1024</th>\n",
       "      <th>hpix_32</th>\n",
       "      <th>hpix_4096</th>\n",
       "      <th>hpix_64</th>\n",
       "    </tr>\n",
       "  </thead>\n",
       "  <tbody>\n",
       "    <tr>\n",
       "      <th>0</th>\n",
       "      <td>326.893500</td>\n",
       "      <td>-39.919220</td>\n",
       "      <td>23.179918</td>\n",
       "      <td>23.469385</td>\n",
       "      <td>0.231884</td>\n",
       "      <td>0.644059</td>\n",
       "      <td>DES2148-3957</td>\n",
       "      <td>11977166</td>\n",
       "      <td>11696</td>\n",
       "      <td>191634667</td>\n",
       "      <td>46785</td>\n",
       "    </tr>\n",
       "    <tr>\n",
       "      <th>1</th>\n",
       "      <td>326.941361</td>\n",
       "      <td>-39.789704</td>\n",
       "      <td>17.020658</td>\n",
       "      <td>17.383627</td>\n",
       "      <td>0.001475</td>\n",
       "      <td>0.003444</td>\n",
       "      <td>DES2148-3957</td>\n",
       "      <td>11977200</td>\n",
       "      <td>11696</td>\n",
       "      <td>191635209</td>\n",
       "      <td>46785</td>\n",
       "    </tr>\n",
       "    <tr>\n",
       "      <th>2</th>\n",
       "      <td>327.339690</td>\n",
       "      <td>-40.030502</td>\n",
       "      <td>22.474710</td>\n",
       "      <td>22.546764</td>\n",
       "      <td>0.080204</td>\n",
       "      <td>0.174881</td>\n",
       "      <td>DES2148-3957</td>\n",
       "      <td>11977078</td>\n",
       "      <td>11696</td>\n",
       "      <td>191633257</td>\n",
       "      <td>46785</td>\n",
       "    </tr>\n",
       "    <tr>\n",
       "      <th>3</th>\n",
       "      <td>327.196766</td>\n",
       "      <td>-39.860714</td>\n",
       "      <td>17.485518</td>\n",
       "      <td>17.717770</td>\n",
       "      <td>0.001582</td>\n",
       "      <td>0.003320</td>\n",
       "      <td>DES2148-3957</td>\n",
       "      <td>11977172</td>\n",
       "      <td>11696</td>\n",
       "      <td>191634766</td>\n",
       "      <td>46785</td>\n",
       "    </tr>\n",
       "    <tr>\n",
       "      <th>4</th>\n",
       "      <td>327.519006</td>\n",
       "      <td>-40.082185</td>\n",
       "      <td>21.122114</td>\n",
       "      <td>21.316036</td>\n",
       "      <td>0.018762</td>\n",
       "      <td>0.046286</td>\n",
       "      <td>DES2148-3957</td>\n",
       "      <td>11977055</td>\n",
       "      <td>11696</td>\n",
       "      <td>191632885</td>\n",
       "      <td>46785</td>\n",
       "    </tr>\n",
       "  </tbody>\n",
       "</table>\n",
       "</div>"
      ],
      "text/plain": [
       "           ra        dec  mag_auto_g  mag_auto_i  magerr_auto_g  \\\n",
       "0  326.893500 -39.919220   23.179918   23.469385       0.231884   \n",
       "1  326.941361 -39.789704   17.020658   17.383627       0.001475   \n",
       "2  327.339690 -40.030502   22.474710   22.546764       0.080204   \n",
       "3  327.196766 -39.860714   17.485518   17.717770       0.001582   \n",
       "4  327.519006 -40.082185   21.122114   21.316036       0.018762   \n",
       "\n",
       "   magerr_auto_i      tilename  hpix_1024  hpix_32  hpix_4096  hpix_64  \n",
       "0       0.644059  DES2148-3957   11977166    11696  191634667    46785  \n",
       "1       0.003444  DES2148-3957   11977200    11696  191635209    46785  \n",
       "2       0.174881  DES2148-3957   11977078    11696  191633257    46785  \n",
       "3       0.003320  DES2148-3957   11977172    11696  191634766    46785  \n",
       "4       0.046286  DES2148-3957   11977055    11696  191632885    46785  "
      ]
     },
     "execution_count": 18,
     "metadata": {},
     "output_type": "execute_result"
    }
   ],
   "source": [
    "df = convert(qc.results(jobid),'pandas')\n",
    "df.head()"
   ]
  },
  {
   "cell_type": "code",
   "execution_count": 19,
   "metadata": {},
   "outputs": [
    {
     "data": {
      "text/plain": [
       "(305817, 11)"
      ]
     },
     "execution_count": 19,
     "metadata": {},
     "output_type": "execute_result"
    }
   ],
   "source": [
    "df.shape"
   ]
  },
  {
   "cell_type": "code",
   "execution_count": 20,
   "metadata": {},
   "outputs": [],
   "source": [
    "df.to_csv('des_dr1_g_i_small_box_hpix.csv',index=False) # Save the table to your virtual space"
   ]
  },
  {
   "cell_type": "code",
   "execution_count": null,
   "metadata": {},
   "outputs": [],
   "source": []
  }
 ],
 "metadata": {
  "kernelspec": {
   "display_name": "Python 3",
   "language": "python",
   "name": "python3"
  },
  "language_info": {
   "codemirror_mode": {
    "name": "ipython",
    "version": 3
   },
   "file_extension": ".py",
   "mimetype": "text/x-python",
   "name": "python",
   "nbconvert_exporter": "python",
   "pygments_lexer": "ipython3",
   "version": "3.6.5"
  }
 },
 "nbformat": 4,
 "nbformat_minor": 2
}
